{
 "cells": [
  {
   "cell_type": "code",
   "execution_count": 1,
   "metadata": {
    "collapsed": true,
    "ExecuteTime": {
     "end_time": "2023-12-05T18:51:31.339261Z",
     "start_time": "2023-12-05T18:51:23.365621Z"
    }
   },
   "outputs": [],
   "source": [
    "import os\n",
    "\n",
    "from blendsql import blend, SQLiteDBConnector, init_secrets\n",
    "from blendsql.ingredients import LLMMap, DT\n",
    "from blendsql.ingredients.builtin.llm.openai_endpoint import OpenaiEndpoint\n",
    "import guidance\n",
    "\n",
    "init_secrets(\"../secrets.json\")"
   ]
  },
  {
   "cell_type": "code",
   "execution_count": 2,
   "outputs": [],
   "source": [
    "# Define our few-shot examples\n",
    "examples = [\n",
    "    {\n",
    "        \"serialized_db\": \"\"\"CREATE TABLE \"transactions\" (\n",
    "    \"index\" INTEGER,\n",
    "    \"description\" TEXT,\n",
    "    \"amount\" REAL,\n",
    "    \"merchant\" TEXT,\n",
    "    \"cash_flow\" TEXT,\n",
    "    \"parent_category\" TEXT,\n",
    "    \"child_category\" TEXT,\n",
    "    \"date\" TEXT,\n",
    ")\"\"\",\n",
    "        \"question\": \"Pizza shops in MA\",\n",
    "        \"blendsql\": \"\"\"SELECT DISTINCT description, merchant FROM transactions WHERE\n",
    "    {{LLMMap('is this a pizza shop?', 'transactions::merchant')}} = 1\n",
    "    AND {{\n",
    "       LLMMap(\n",
    "           'what state is this transaction from? Choose -1 when N.A.',\n",
    "           'transactions::description',\n",
    "           binary=0,\n",
    "           example_outputs='TX;CA;MA;-1;',\n",
    "           endpoint_name='gpt-4'\n",
    "       )\n",
    "    }} = 'MA'\n",
    "    AND parent_category = 'Food'\"\"\"\n",
    "    },\n",
    "    {\n",
    "        \"serialized_db\": \"\"\"CREATE TABLE \"transactions\" (\n",
    "    \"index\" INTEGER,\n",
    "    \"description\" TEXT,\n",
    "    \"amount\" REAL,\n",
    "    \"merchant\" TEXT,\n",
    "    \"cash_flow\" TEXT,\n",
    "    \"parent_category\" TEXT,\n",
    "    \"child_category\" TEXT,\n",
    "    \"date\" TEXT,\n",
    ")\"\"\",\n",
    "        \"question\": \"Italian restaurants or gifts\",\n",
    "        \"blendsql\": \"\"\"SELECT DISTINCT description, merchant, child_category FROM transactions WHERE\n",
    "    (\n",
    "       {{LLMMap('is this an italian restaurant?', 'transactions::merchant')}} = 1\n",
    "       AND child_category = 'this does not exist'\n",
    "    )\n",
    "    OR child_category = 'Gifts'\n",
    "    AND {{DT('transactions::date', start='last year')}}\"\"\"\n",
    "    },\n",
    "    {\n",
    "        \"serialized_db\": \"\"\"CREATE TABLE \"transactions\" (\n",
    "    \"index\" INTEGER,\n",
    "    \"description\" TEXT,\n",
    "    \"amount\" REAL,\n",
    "    \"merchant\" TEXT,\n",
    "    \"cash_flow\" TEXT,\n",
    "    \"parent_category\" TEXT,\n",
    "    \"child_category\" TEXT,\n",
    "    \"date\" TEXT,\n",
    ")\"\"\",\n",
    "        \"question\": \"Show gifts for my kid in Q2\",\n",
    "        \"blendsql\": \"\"\"SELECT DISTINCT description, merchant, child_category, date FROM transactions WHERE\n",
    "      {{LLM('would this gift be appropriate for a child?', 'transactions::description')}} = 1\n",
    "      AND {{DT('transactions::date', start='q2')}}\n",
    "      AND child_category = 'Gifts'\"\"\"\n",
    "    }\n",
    "]"
   ],
   "metadata": {
    "collapsed": false,
    "ExecuteTime": {
     "end_time": "2023-12-05T18:51:31.346821Z",
     "start_time": "2023-12-05T18:51:31.339654Z"
    }
   }
  },
  {
   "cell_type": "code",
   "execution_count": 3,
   "outputs": [],
   "source": [
    "# Define our prompt to GPT-4\n",
    "program = guidance(\"\"\"\n",
    "{{#system~}}\n",
    "Generate BlendSQL given the question, table, passages, image captions to answer the question correctly.\n",
    "BlendSQL is a superset of SQLite, which adds external function calls for information not found within native SQLite.\n",
    "These external functions should be wrapped in double curly brackets.\n",
    "\n",
    "If question-relevant column(s) contents are not suitable for SQL comparisons or calculations, map it to a new column with clean content by a new grammar:\n",
    "    `LLMMap('question', '{table}::{column})'`\n",
    "\n",
    "If the questions comment on some relative datetime operation, use the new grammar:\n",
    "    `DT('{table}::{column}', start='', end='')`\n",
    "\n",
    "Examples:\n",
    "{{~#each examples}}\n",
    "{{this.serialized_db}}\n",
    "Question: {{this.question}}\n",
    "BlendSQL: {{this.blendsql}}\n",
    "{{/each}}\n",
    "\n",
    "{{~/system}}\n",
    "\n",
    "{{#user~}}\n",
    "{{serialized_db}}\n",
    "Question: {{question}}\n",
    "BlendSQL:\n",
    "{{~/user}}\n",
    "\n",
    "{{#assistant~}}\n",
    "{{gen \"result\" temperature=0.0}}\n",
    "{{~/assistant}}\n",
    "\"\"\"\n",
    ")"
   ],
   "metadata": {
    "collapsed": false,
    "ExecuteTime": {
     "end_time": "2023-12-05T18:51:31.351825Z",
     "start_time": "2023-12-05T18:51:31.350026Z"
    }
   }
  },
  {
   "cell_type": "code",
   "execution_count": 9,
   "outputs": [],
   "source": [
    "def few_shot_blendsql(question: str, db_path: str):\n",
    "    endpoint = OpenaiEndpoint(\"code-davinci-002\")\n",
    "    db = SQLiteDBConnector(db_path)\n",
    "    res = endpoint.predict(\n",
    "        program=program,\n",
    "        serialized_db = db.to_serialized(ignore_tables=\"fundamentals\"),\n",
    "        question = question,\n",
    "        examples=examples\n",
    "    )\n",
    "    query = res[\"result\"]\n",
    "    print(f\"Parsed query: {query}\")\n",
    "    smoothie = blend(\n",
    "        query=query,\n",
    "        db=db,\n",
    "        ingredients={LLMMap, DT},\n",
    "        verbose=True,\n",
    "        use_endpoint=\"gpt-4\"\n",
    "    )\n",
    "    return smoothie"
   ],
   "metadata": {
    "collapsed": false,
    "ExecuteTime": {
     "end_time": "2023-12-05T18:54:12.536948Z",
     "start_time": "2023-12-05T18:54:12.533661Z"
    }
   }
  },
  {
   "cell_type": "code",
   "execution_count": 15,
   "outputs": [
    {
     "data": {
      "text/html": "<div id=\"guidance-stop-button-115af168-832e-4b62-b84a-21d9dad9ddc7\" style=\"cursor: pointer; margin: 0px; display: none; float: right; padding: 3px; border-radius: 4px 4px 4px 4px; border: 0px solid rgba(127, 127, 127, 1); padding-left: 10px; padding-right: 10px; font-size: 13px; background-color: rgba(127, 127, 127, 0.25);\">Stop program</div><div id=\"guidance-content-115af168-832e-4b62-b84a-21d9dad9ddc7\"><pre style='margin: 0px; padding: 0px; padding-left: 8px; margin-left: -8px; border-radius: 0px; border-left: 1px solid rgba(127, 127, 127, 0.2); white-space: pre-wrap; font-family: ColfaxAI, Arial; font-size: 15px; line-height: 23px;'><div style='display: flex; border-bottom: 1px solid rgba(127, 127, 127, 0.2); align-items: center;'><div style='flex: 0 0 80px; opacity: 0.5;'>system</div><div style='flex-grow: 1; padding: 5px; padding-top: 10px; padding-bottom: 10px; margin-top: 0px; white-space: pre-wrap; margin-bottom: 0px;'>Answer the question row-by-row, in order.\n    If the question can be answered with &#x27;yes&#x27; or &#x27;no&#x27;, select `1` for &#x27;yes&#x27; or `0` for &#x27;no&#x27;.\n    The answer should be a list separataed by &#x27;<span style='background-color: rgba(0, 138.56128016, 250.76166089, 0.25); display: inline;' title='{{sep}}'>;</span>&#x27;, and have <span style='background-color: rgba(0, 138.56128016, 250.76166089, 0.25); display: inline;' title='{{answer_length}}'>15</span> items in total.\n    \n    <span style='background-color: rgba(0, 138.56128016, 250.76166089, 0.25); display: inline;' title='{{#if example_outputs}}\n    Here are some example outputs: {{example_outputs}}\n    {{/if}}'>\n    Here are some example outputs: <span style='background-color: rgba(0, 138.56128016, 250.76166089, 0.25); display: inline;' title='{{example_outputs}}'>1</span>\n    </span></div></div><div style='display: flex; border-bottom: 1px solid rgba(127, 127, 127, 0.2); align-items: center;'><div style='flex: 0 0 80px; opacity: 0.5;'>user</div><div style='flex-grow: 1; padding: 5px; padding-top: 10px; padding-bottom: 10px; margin-top: 0px; white-space: pre-wrap; margin-bottom: 0px;'><span style='background-color: rgba(0, 138.56128016, 250.76166089, 0.25); display: inline;' title='{{#if table_title}}\n    The following values come from the column &#x27;{{colname}}&#x27;, in a table titled &#x27;{{table_title}}&#x27;. \n    Use this as context in responding.\n    {{/if}}'></span>\n    Question: <span style='background-color: rgba(0, 138.56128016, 250.76166089, 0.25); display: inline;' title='{{question}}'>is this a sushi restaurant?</span><span style='opacity: 1.0; display: inline; background-color: rgba(165, 165, 165, 0.1);' title='{{~#each values_dict}}\n    - {{this.value}}\n    {{/each}}'>\n    - <span style='background-color: rgba(0, 138.56128016, 250.76166089, 0.25); display: inline;' title='{{this.value}}'>Pla Too Thai Cuisine</span>\n    \n    - <span style='background-color: rgba(0, 138.56128016, 250.76166089, 0.25); display: inline;' title='{{this.value}}'>Sinju Sushi</span>\n    \n    - <span style='background-color: rgba(0, 138.56128016, 250.76166089, 0.25); display: inline;' title='{{this.value}}'>Nonstop Sushi</span>\n    \n    - <span style='background-color: rgba(0, 138.56128016, 250.76166089, 0.25); display: inline;' title='{{this.value}}'>Si Lom Thai Asian Fusion</span>\n    \n    - <span style='background-color: rgba(0, 138.56128016, 250.76166089, 0.25); display: inline;' title='{{this.value}}'>Lulu Kitchen</span>\n    \n    - <span style='background-color: rgba(0, 138.56128016, 250.76166089, 0.25); display: inline;' title='{{this.value}}'>A Thai Cafe</span>\n    \n    - <span style='background-color: rgba(0, 138.56128016, 250.76166089, 0.25); display: inline;' title='{{this.value}}'>Jinju Sushi</span>\n    \n    - <span style='background-color: rgba(0, 138.56128016, 250.76166089, 0.25); display: inline;' title='{{this.value}}'>Asian Thai</span>\n    \n    - <span style='background-color: rgba(0, 138.56128016, 250.76166089, 0.25); display: inline;' title='{{this.value}}'>Tobu Thai &amp; Sushi</span>\n    \n    - <span style='background-color: rgba(0, 138.56128016, 250.76166089, 0.25); display: inline;' title='{{this.value}}'>Akashi Sushi</span>\n    \n    - <span style='background-color: rgba(0, 138.56128016, 250.76166089, 0.25); display: inline;' title='{{this.value}}'>Shana Thai</span>\n    \n    - <span style='background-color: rgba(0, 138.56128016, 250.76166089, 0.25); display: inline;' title='{{this.value}}'>Border Grill</span>\n    \n    - <span style='background-color: rgba(0, 138.56128016, 250.76166089, 0.25); display: inline;' title='{{this.value}}'>LOLLITA FORT POINT</span>\n    \n    - <span style='background-color: rgba(0, 138.56128016, 250.76166089, 0.25); display: inline;' title='{{this.value}}'>doordash</span>\n    \n    - <span style='background-color: rgba(0, 138.56128016, 250.76166089, 0.25); display: inline;' title='{{this.value}}'>Uber Eats</span>\n    </span></div></div><div style='display: flex; border-bottom: 1px solid rgba(127, 127, 127, 0.2); align-items: center;'><div style='flex: 0 0 80px; opacity: 0.5;'>assistant</div><div style='flex-grow: 1; padding: 5px; padding-top: 10px; padding-bottom: 10px; margin-top: 0px; white-space: pre-wrap; margin-bottom: 0px;'><span style='background-color: rgba(0, 165, 0, 0.25); opacity: 1.0; display: inline;' title='{{gen &quot;result&quot; temperature=0.0}}'>0;1;1;0;0;0;1;0;1;1;0;0;0;0;0</span></div></div></pre></div>\n<script type=\"text/javascript\">(()=>{var t={296:(t,e,n)=>{var i=NaN,o=\"[object Symbol]\",r=/^\\s+|\\s+$/g,a=/^[-+]0x[0-9a-f]+$/i,s=/^0b[01]+$/i,c=/^0o[0-7]+$/i,d=parseInt,u=\"object\"==typeof n.g&&n.g&&n.g.Object===Object&&n.g,l=\"object\"==typeof self&&self&&self.Object===Object&&self,f=u||l||Function(\"return this\")(),h=Object.prototype.toString,p=Math.max,m=Math.min,g=function(){return f.Date.now()};function b(t){var e=typeof t;return!!t&&(\"object\"==e||\"function\"==e)}function y(t){if(\"number\"==typeof t)return t;if(function(t){return\"symbol\"==typeof t||function(t){return!!t&&\"object\"==typeof t}(t)&&h.call(t)==o}(t))return i;if(b(t)){var e=\"function\"==typeof t.valueOf?t.valueOf():t;t=b(e)?e+\"\":e}if(\"string\"!=typeof t)return 0===t?t:+t;t=t.replace(r,\"\");var n=s.test(t);return n||c.test(t)?d(t.slice(2),n?2:8):a.test(t)?i:+t}t.exports=function(t,e,n){var i,o,r,a,s,c,d=0,u=!1,l=!1,f=!0;if(\"function\"!=typeof t)throw new TypeError(\"Expected a function\");function h(e){var n=i,r=o;return i=o=void 0,d=e,a=t.apply(r,n)}function v(t){var n=t-c;return void 0===c||n>=e||n<0||l&&t-d>=r}function _(){var t=g();if(v(t))return w(t);s=setTimeout(_,function(t){var n=e-(t-c);return l?m(n,r-(t-d)):n}(t))}function w(t){return s=void 0,f&&i?h(t):(i=o=void 0,a)}function j(){var t=g(),n=v(t);if(i=arguments,o=this,c=t,n){if(void 0===s)return function(t){return d=t,s=setTimeout(_,e),u?h(t):a}(c);if(l)return s=setTimeout(_,e),h(c)}return void 0===s&&(s=setTimeout(_,e)),a}return e=y(e)||0,b(n)&&(u=!!n.leading,r=(l=\"maxWait\"in n)?p(y(n.maxWait)||0,e):r,f=\"trailing\"in n?!!n.trailing:f),j.cancel=function(){void 0!==s&&clearTimeout(s),d=0,i=c=o=s=void 0},j.flush=function(){return void 0===s?a:w(g())},j}},777:t=>{var e,n,i=Math.max,o=(e=function(t,e){return function(t,e,n){if(\"function\"!=typeof t)throw new TypeError(\"Expected a function\");return setTimeout((function(){t.apply(void 0,n)}),1)}(t,0,e)},n=i(void 0===n?e.length-1:n,0),function(){for(var t=arguments,o=-1,r=i(t.length-n,0),a=Array(r);++o<r;)a[o]=t[n+o];o=-1;for(var s=Array(n+1);++o<n;)s[o]=t[o];return s[n]=a,function(t,e,n){switch(n.length){case 0:return t.call(e);case 1:return t.call(e,n[0]);case 2:return t.call(e,n[0],n[1]);case 3:return t.call(e,n[0],n[1],n[2])}return t.apply(e,n)}(e,this,s)});t.exports=o}},e={};function n(i){var o=e[i];if(void 0!==o)return o.exports;var r=e[i]={exports:{}};return t[i](r,r.exports,n),r.exports}n.n=t=>{var e=t&&t.__esModule?()=>t.default:()=>t;return n.d(e,{a:e}),e},n.d=(t,e)=>{for(var i in e)n.o(e,i)&&!n.o(t,i)&&Object.defineProperty(t,i,{enumerable:!0,get:e[i]})},n.g=function(){if(\"object\"==typeof globalThis)return globalThis;try{return this||new Function(\"return this\")()}catch(t){if(\"object\"==typeof window)return window}}(),n.o=(t,e)=>Object.prototype.hasOwnProperty.call(t,e),(()=>{\"use strict\";const t=t=>{const e=new Set;do{for(const n of Reflect.ownKeys(t))e.add([t,n])}while((t=Reflect.getPrototypeOf(t))&&t!==Object.prototype);return e};function e(e,{include:n,exclude:i}={}){const o=t=>{const e=e=>\"string\"==typeof e?t===e:e.test(t);return n?n.some(e):!i||!i.some(e)};for(const[n,i]of t(e.constructor.prototype)){if(\"constructor\"===i||!o(i))continue;const t=Reflect.getOwnPropertyDescriptor(n,i);t&&\"function\"==typeof t.value&&(e[i]=e[i].bind(e))}return e}var i=n(777),o=n.n(i),r=n(296),a=n.n(r);class s{constructor(t,n){e(this),this.interfaceId=t,this.callbackMap={},this.data={},this.pendingData={},this.jcomm=new c(\"guidance_interface_target_\"+this.interfaceId,this.updateData,\"open\"),this.debouncedSendPendingData500=a()(this.sendPendingData,500),this.debouncedSendPendingData1000=a()(this.sendPendingData,1e3),n&&o()(n)}send(t,e){this.addPendingData(t,e),this.sendPendingData()}sendEvent(t){for(const e of Object.keys(t))this.addPendingData(e,t[e]);this.sendPendingData()}debouncedSendEvent500(t){for(const e of Object.keys(t))this.addPendingData(e,t[e]);this.debouncedSendPendingData500()}debouncedSend500(t,e){this.addPendingData(t,e),this.debouncedSendPendingData500()}debouncedSend1000(t,e){this.addPendingData(t,e),this.debouncedSendPendingData1000()}addPendingData(t,e){Array.isArray(t)||(t=[t]);for(const n in t)this.pendingData[t[n]]=e}updateData(t){t=JSON.parse(t.data);for(const e in t)this.data[e]=t[e];for(const e in t)e in this.callbackMap&&this.callbackMap[e](this.data[e])}subscribe(t,e){this.callbackMap[t]=e,o()((e=>this.callbackMap[t](this.data[t])))}sendPendingData(){this.jcomm.send_data(this.pendingData),this.pendingData={}}}class c{constructor(t,e,n=\"open\"){this._fire_callback=this._fire_callback.bind(this),this._register=this._register.bind(this),this.jcomm=void 0,this.callback=e,void 0!==window.Jupyter?\"register\"===n?Jupyter.notebook.kernel.comm_manager.register_target(t,this._register):(this.jcomm=Jupyter.notebook.kernel.comm_manager.new_comm(t),this.jcomm.on_msg(this._fire_callback)):void 0!==window._mgr&&(\"register\"===n?window._mgr.widgetManager.proxyKernel.registerCommTarget(t,this._register):(this.jcomm=window._mgr.widgetManager.proxyKernel.createComm(t),this.jcomm.open({},\"\"),this.jcomm.onMsg=this._fire_callback))}send_data(t){void 0!==this.jcomm?this.jcomm.send(t):console.error(\"Jupyter comm module not yet loaded! So we can't send the message.\")}_register(t,e){this.jcomm=t,this.jcomm.on_msg(this._fire_callback)}_fire_callback(t){this.callback(t.content.data)}}class d{constructor(t,n){e(this),this.id=t,this.comm=new s(t),this.comm.subscribe(\"append\",this.appendData),this.comm.subscribe(\"replace\",this.replaceData),this.comm.subscribe(\"event\",this.eventOccurred),this.element=document.getElementById(\"guidance-content-\"+t),this.stop_button=document.getElementById(\"guidance-stop-button-\"+t),this.stop_button.onclick=()=>this.comm.send(\"event\",\"stop\")}appendData(t){t&&(this.stop_button.style.display=\"inline-block\",this.element.innerHTML+=t)}replaceData(t){t&&(this.stop_button.style.display=\"inline-block\",this.element.innerHTML=t)}eventOccurred(t){\"complete\"===t&&(this.stop_button.style.display=\"none\")}}window._guidanceDisplay=function(t,e){return new d(t,e)}})()})();; window._guidanceDisplay(\"115af168-832e-4b62-b84a-21d9dad9ddc7\");</script>"
     },
     "metadata": {},
     "output_type": "display_data"
    },
    {
     "name": "stderr",
     "output_type": "stream",
     "text": [
      "Making calls to LLM with batch_size 20: |          | 3/? [00:00<00:00,  6.07it/s]              | 3/? [00:00<00:00,  5.59it/s]\n",
      "2023-12-05 14:04:47,378 - 8629432960 - main.py-main:92 - DEBUG: Finished with values ['0', '0', '0', '0', '0', '0', '0', '0', '0', '0']\n",
      "2023-12-05 14:04:47,414 - 8629432960 - grammar.py-grammar:403 - DEBUG: \n",
      "2023-12-05 14:04:47,415 - 8629432960 - grammar.py-grammar:404 - DEBUG: **********************************************************************************\n",
      "2023-12-05 14:04:47,416 - 8629432960 - grammar.py-grammar:407 - DEBUG: Final Query:\n",
      "SELECT DISTINCT description, merchant FROM 'c9b8_transactions' WHERE  \"is this a sushi restaurant?\"  = 1 AND  'c9b8_transactions'.\"date\" > '2022-04-01' AND 'c9b8_transactions'.\"date\" < '2022-06-30'  AND parent_category = 'Food'\n",
      "2023-12-05 14:04:47,417 - 8629432960 - grammar.py-grammar:408 - DEBUG: **********************************************************************************\n",
      "2023-12-05 14:04:47,417 - 8629432960 - grammar.py-grammar:411 - DEBUG: \n",
      "2023-12-05 14:04:47,418 - 8629432960 - utils.py-utils:164 - DEBUG: Deleting tables with uuid `c9b8`...\n"
     ]
    },
    {
     "name": "stdout",
     "output_type": "stream",
     "text": [
      "SELECT DISTINCT description, merchant FROM transactions WHERE  {{LLMMAP('is this a sushi restaurant?', 'transactions::merchant')}}  = 1 AND  {{DT('transactions::date', start = 'q2')}}  AND parent_category = 'Food'\n"
     ]
    }
   ],
   "source": [
    "smoothie = few_shot_blendsql(\"Which Sushi restaurants have I been to in q2? only show 'Food' transactions\", db_path=\"../tests/transactbot.sqlite\")\n",
    "print(smoothie.meta.query)"
   ],
   "metadata": {
    "collapsed": false
   }
  },
  {
   "cell_type": "code",
   "execution_count": 14,
   "outputs": [
    {
     "data": {
      "text/plain": "                        description           merchant\n0            DOORDASH NONSTOP SUSHI      Nonstop Sushi\n1       TOBU SUSHI CORAL SPRINGS FL  Tobu Thai & Sushi\n2  24081629L0V0KQBBX AKASHI SUSHI F       Akashi Sushi",
      "text/html": "<div>\n<style scoped>\n    .dataframe tbody tr th:only-of-type {\n        vertical-align: middle;\n    }\n\n    .dataframe tbody tr th {\n        vertical-align: top;\n    }\n\n    .dataframe thead th {\n        text-align: right;\n    }\n</style>\n<table border=\"1\" class=\"dataframe\">\n  <thead>\n    <tr style=\"text-align: right;\">\n      <th></th>\n      <th>description</th>\n      <th>merchant</th>\n    </tr>\n  </thead>\n  <tbody>\n    <tr>\n      <th>0</th>\n      <td>DOORDASH NONSTOP SUSHI</td>\n      <td>Nonstop Sushi</td>\n    </tr>\n    <tr>\n      <th>1</th>\n      <td>TOBU SUSHI CORAL SPRINGS FL</td>\n      <td>Tobu Thai &amp; Sushi</td>\n    </tr>\n    <tr>\n      <th>2</th>\n      <td>24081629L0V0KQBBX AKASHI SUSHI F</td>\n      <td>Akashi Sushi</td>\n    </tr>\n  </tbody>\n</table>\n</div>"
     },
     "execution_count": 14,
     "metadata": {},
     "output_type": "execute_result"
    }
   ],
   "source": [
    "smoothie.df"
   ],
   "metadata": {
    "collapsed": false,
    "ExecuteTime": {
     "end_time": "2023-12-05T18:58:45.147552Z",
     "start_time": "2023-12-05T18:58:45.129362Z"
    }
   }
  },
  {
   "cell_type": "code",
   "execution_count": 10,
   "outputs": [
    {
     "data": {
      "text/html": "<div id=\"guidance-stop-button-5775ab5b-4de5-442a-9568-7da06f74bf0f\" style=\"cursor: pointer; margin: 0px; display: none; float: right; padding: 3px; border-radius: 4px 4px 4px 4px; border: 0px solid rgba(127, 127, 127, 1); padding-left: 10px; padding-right: 10px; font-size: 13px; background-color: rgba(127, 127, 127, 0.25);\">Stop program</div><div id=\"guidance-content-5775ab5b-4de5-442a-9568-7da06f74bf0f\"><pre style='margin: 0px; padding: 0px; padding-left: 8px; margin-left: -8px; border-radius: 0px; border-left: 1px solid rgba(127, 127, 127, 0.2); white-space: pre-wrap; font-family: ColfaxAI, Arial; font-size: 15px; line-height: 23px;'><div style='display: flex; border-bottom: 1px solid rgba(127, 127, 127, 0.2); align-items: center;'><div style='flex: 0 0 80px; opacity: 0.5;'>system</div><div style='flex-grow: 1; padding: 5px; padding-top: 10px; padding-bottom: 10px; margin-top: 0px; white-space: pre-wrap; margin-bottom: 0px;'>Answer the question row-by-row, in order.\n    If the question can be answered with &#x27;yes&#x27; or &#x27;no&#x27;, select `1` for &#x27;yes&#x27; or `0` for &#x27;no&#x27;.\n    The answer should be a list separataed by &#x27;<span style='background-color: rgba(0, 138.56128016, 250.76166089, 0.25); display: inline;' title='{{sep}}'>;</span>&#x27;, and have <span style='background-color: rgba(0, 138.56128016, 250.76166089, 0.25); display: inline;' title='{{answer_length}}'>1</span> items in total.\n    \n    <span style='background-color: rgba(0, 138.56128016, 250.76166089, 0.25); display: inline;' title='{{#if example_outputs}}\n    Here are some example outputs: {{example_outputs}}\n    {{/if}}'>\n    Here are some example outputs: <span style='background-color: rgba(0, 138.56128016, 250.76166089, 0.25); display: inline;' title='{{example_outputs}}'>1</span>\n    </span></div></div><div style='display: flex; border-bottom: 1px solid rgba(127, 127, 127, 0.2); align-items: center;'><div style='flex: 0 0 80px; opacity: 0.5;'>user</div><div style='flex-grow: 1; padding: 5px; padding-top: 10px; padding-bottom: 10px; margin-top: 0px; white-space: pre-wrap; margin-bottom: 0px;'><span style='background-color: rgba(0, 138.56128016, 250.76166089, 0.25); display: inline;' title='{{#if table_title}}\n    The following values come from the column &#x27;{{colname}}&#x27;, in a table titled &#x27;{{table_title}}&#x27;. \n    Use this as context in responding.\n    {{/if}}'></span>\n    Question: <span style='background-color: rgba(0, 138.56128016, 250.76166089, 0.25); display: inline;' title='{{question}}'>does this company manufacture cell phones?</span><span style='opacity: 1.0; display: inline; background-color: rgba(165, 165, 165, 0.1);' title='{{~#each values_dict}}\n    - {{this.value}}\n    {{/each}}'>\n    - <span style='background-color: rgba(0, 138.56128016, 250.76166089, 0.25); display: inline;' title='{{this.value}}'>COMCAST</span>\n    </span></div></div><div style='display: flex; border-bottom: 1px solid rgba(127, 127, 127, 0.2); align-items: center;'><div style='flex: 0 0 80px; opacity: 0.5;'>assistant</div><div style='flex-grow: 1; padding: 5px; padding-top: 10px; padding-bottom: 10px; margin-top: 0px; white-space: pre-wrap; margin-bottom: 0px;'><span style='background-color: rgba(0, 165, 0, 0.25); opacity: 1.0; display: inline;' title='{{gen &quot;result&quot; temperature=0.0}}'>0</span></div></div></pre></div>\n<script type=\"text/javascript\">(()=>{var t={296:(t,e,n)=>{var i=NaN,o=\"[object Symbol]\",r=/^\\s+|\\s+$/g,a=/^[-+]0x[0-9a-f]+$/i,s=/^0b[01]+$/i,c=/^0o[0-7]+$/i,d=parseInt,u=\"object\"==typeof n.g&&n.g&&n.g.Object===Object&&n.g,l=\"object\"==typeof self&&self&&self.Object===Object&&self,f=u||l||Function(\"return this\")(),h=Object.prototype.toString,p=Math.max,m=Math.min,g=function(){return f.Date.now()};function b(t){var e=typeof t;return!!t&&(\"object\"==e||\"function\"==e)}function y(t){if(\"number\"==typeof t)return t;if(function(t){return\"symbol\"==typeof t||function(t){return!!t&&\"object\"==typeof t}(t)&&h.call(t)==o}(t))return i;if(b(t)){var e=\"function\"==typeof t.valueOf?t.valueOf():t;t=b(e)?e+\"\":e}if(\"string\"!=typeof t)return 0===t?t:+t;t=t.replace(r,\"\");var n=s.test(t);return n||c.test(t)?d(t.slice(2),n?2:8):a.test(t)?i:+t}t.exports=function(t,e,n){var i,o,r,a,s,c,d=0,u=!1,l=!1,f=!0;if(\"function\"!=typeof t)throw new TypeError(\"Expected a function\");function h(e){var n=i,r=o;return i=o=void 0,d=e,a=t.apply(r,n)}function v(t){var n=t-c;return void 0===c||n>=e||n<0||l&&t-d>=r}function _(){var t=g();if(v(t))return w(t);s=setTimeout(_,function(t){var n=e-(t-c);return l?m(n,r-(t-d)):n}(t))}function w(t){return s=void 0,f&&i?h(t):(i=o=void 0,a)}function j(){var t=g(),n=v(t);if(i=arguments,o=this,c=t,n){if(void 0===s)return function(t){return d=t,s=setTimeout(_,e),u?h(t):a}(c);if(l)return s=setTimeout(_,e),h(c)}return void 0===s&&(s=setTimeout(_,e)),a}return e=y(e)||0,b(n)&&(u=!!n.leading,r=(l=\"maxWait\"in n)?p(y(n.maxWait)||0,e):r,f=\"trailing\"in n?!!n.trailing:f),j.cancel=function(){void 0!==s&&clearTimeout(s),d=0,i=c=o=s=void 0},j.flush=function(){return void 0===s?a:w(g())},j}},777:t=>{var e,n,i=Math.max,o=(e=function(t,e){return function(t,e,n){if(\"function\"!=typeof t)throw new TypeError(\"Expected a function\");return setTimeout((function(){t.apply(void 0,n)}),1)}(t,0,e)},n=i(void 0===n?e.length-1:n,0),function(){for(var t=arguments,o=-1,r=i(t.length-n,0),a=Array(r);++o<r;)a[o]=t[n+o];o=-1;for(var s=Array(n+1);++o<n;)s[o]=t[o];return s[n]=a,function(t,e,n){switch(n.length){case 0:return t.call(e);case 1:return t.call(e,n[0]);case 2:return t.call(e,n[0],n[1]);case 3:return t.call(e,n[0],n[1],n[2])}return t.apply(e,n)}(e,this,s)});t.exports=o}},e={};function n(i){var o=e[i];if(void 0!==o)return o.exports;var r=e[i]={exports:{}};return t[i](r,r.exports,n),r.exports}n.n=t=>{var e=t&&t.__esModule?()=>t.default:()=>t;return n.d(e,{a:e}),e},n.d=(t,e)=>{for(var i in e)n.o(e,i)&&!n.o(t,i)&&Object.defineProperty(t,i,{enumerable:!0,get:e[i]})},n.g=function(){if(\"object\"==typeof globalThis)return globalThis;try{return this||new Function(\"return this\")()}catch(t){if(\"object\"==typeof window)return window}}(),n.o=(t,e)=>Object.prototype.hasOwnProperty.call(t,e),(()=>{\"use strict\";const t=t=>{const e=new Set;do{for(const n of Reflect.ownKeys(t))e.add([t,n])}while((t=Reflect.getPrototypeOf(t))&&t!==Object.prototype);return e};function e(e,{include:n,exclude:i}={}){const o=t=>{const e=e=>\"string\"==typeof e?t===e:e.test(t);return n?n.some(e):!i||!i.some(e)};for(const[n,i]of t(e.constructor.prototype)){if(\"constructor\"===i||!o(i))continue;const t=Reflect.getOwnPropertyDescriptor(n,i);t&&\"function\"==typeof t.value&&(e[i]=e[i].bind(e))}return e}var i=n(777),o=n.n(i),r=n(296),a=n.n(r);class s{constructor(t,n){e(this),this.interfaceId=t,this.callbackMap={},this.data={},this.pendingData={},this.jcomm=new c(\"guidance_interface_target_\"+this.interfaceId,this.updateData,\"open\"),this.debouncedSendPendingData500=a()(this.sendPendingData,500),this.debouncedSendPendingData1000=a()(this.sendPendingData,1e3),n&&o()(n)}send(t,e){this.addPendingData(t,e),this.sendPendingData()}sendEvent(t){for(const e of Object.keys(t))this.addPendingData(e,t[e]);this.sendPendingData()}debouncedSendEvent500(t){for(const e of Object.keys(t))this.addPendingData(e,t[e]);this.debouncedSendPendingData500()}debouncedSend500(t,e){this.addPendingData(t,e),this.debouncedSendPendingData500()}debouncedSend1000(t,e){this.addPendingData(t,e),this.debouncedSendPendingData1000()}addPendingData(t,e){Array.isArray(t)||(t=[t]);for(const n in t)this.pendingData[t[n]]=e}updateData(t){t=JSON.parse(t.data);for(const e in t)this.data[e]=t[e];for(const e in t)e in this.callbackMap&&this.callbackMap[e](this.data[e])}subscribe(t,e){this.callbackMap[t]=e,o()((e=>this.callbackMap[t](this.data[t])))}sendPendingData(){this.jcomm.send_data(this.pendingData),this.pendingData={}}}class c{constructor(t,e,n=\"open\"){this._fire_callback=this._fire_callback.bind(this),this._register=this._register.bind(this),this.jcomm=void 0,this.callback=e,void 0!==window.Jupyter?\"register\"===n?Jupyter.notebook.kernel.comm_manager.register_target(t,this._register):(this.jcomm=Jupyter.notebook.kernel.comm_manager.new_comm(t),this.jcomm.on_msg(this._fire_callback)):void 0!==window._mgr&&(\"register\"===n?window._mgr.widgetManager.proxyKernel.registerCommTarget(t,this._register):(this.jcomm=window._mgr.widgetManager.proxyKernel.createComm(t),this.jcomm.open({},\"\"),this.jcomm.onMsg=this._fire_callback))}send_data(t){void 0!==this.jcomm?this.jcomm.send(t):console.error(\"Jupyter comm module not yet loaded! So we can't send the message.\")}_register(t,e){this.jcomm=t,this.jcomm.on_msg(this._fire_callback)}_fire_callback(t){this.callback(t.content.data)}}class d{constructor(t,n){e(this),this.id=t,this.comm=new s(t),this.comm.subscribe(\"append\",this.appendData),this.comm.subscribe(\"replace\",this.replaceData),this.comm.subscribe(\"event\",this.eventOccurred),this.element=document.getElementById(\"guidance-content-\"+t),this.stop_button=document.getElementById(\"guidance-stop-button-\"+t),this.stop_button.onclick=()=>this.comm.send(\"event\",\"stop\")}appendData(t){t&&(this.stop_button.style.display=\"inline-block\",this.element.innerHTML+=t)}replaceData(t){t&&(this.stop_button.style.display=\"inline-block\",this.element.innerHTML=t)}eventOccurred(t){\"complete\"===t&&(this.stop_button.style.display=\"none\")}}window._guidanceDisplay=function(t,e){return new d(t,e)}})()})();; window._guidanceDisplay(\"5775ab5b-4de5-442a-9568-7da06f74bf0f\");</script>"
     },
     "metadata": {},
     "output_type": "display_data"
    },
    {
     "name": "stderr",
     "output_type": "stream",
     "text": [
      "Making calls to LLM with batch_size 20: |          | 2/? [00:03<00:00,  1.66s/it]              | 2/? [00:03<00:00,  1.86s/it]\n",
      "2023-12-05 13:54:19,228 - 8629432960 - main.py-main:92 - DEBUG: Finished with values ['0', '0', '0', '0', '0', '0', '0', '0', '0', '0']\n",
      "2023-12-05 13:54:19,242 - 8629432960 - grammar.py-grammar:403 - DEBUG: \n",
      "2023-12-05 13:54:19,242 - 8629432960 - grammar.py-grammar:404 - DEBUG: **********************************************************************************\n",
      "2023-12-05 13:54:19,243 - 8629432960 - grammar.py-grammar:407 - DEBUG: Final Query:\n",
      "SELECT DISTINCT 'ac35_portfolio'.Symbol, 'ac35_portfolio'.Description, constituents.Name, constituents.Sector FROM 'ac35_portfolio' JOIN constituents ON 'ac35_portfolio'.Symbol = constituents.Symbol WHERE  \"does this company manufacture cell phones?\"  = 1 AND constituents.Sector = 'Information Technology'\n",
      "2023-12-05 13:54:19,243 - 8629432960 - grammar.py-grammar:408 - DEBUG: **********************************************************************************\n",
      "2023-12-05 13:54:19,244 - 8629432960 - grammar.py-grammar:411 - DEBUG: \n",
      "2023-12-05 13:54:19,245 - 8629432960 - utils.py-utils:164 - DEBUG: Deleting tables with uuid `ac35`...\n"
     ]
    },
    {
     "name": "stdout",
     "output_type": "stream",
     "text": [
      "SELECT DISTINCT portfolio.Symbol, portfolio.Description, constituents.Name, constituents.Sector FROM portfolio JOIN constituents ON portfolio.Symbol = constituents.Symbol WHERE  {{LLMMAP('does this company manufacture cell phones?', 'portfolio::Description')}}  = 1 AND constituents.Sector = 'Information Technology'\n"
     ]
    }
   ],
   "source": [
    "smoothie = few_shot_blendsql(\"Show me tech stocks in my portfolio that manufacture cell phones\", db_path=\"../tests/brokeragebot.sqlite\")\n",
    "print(smoothie.meta.query)"
   ],
   "metadata": {
    "collapsed": false
   }
  },
  {
   "cell_type": "code",
   "execution_count": 11,
   "outputs": [
    {
     "data": {
      "text/plain": "  Symbol Description        Name                  Sector\n0   AAPL   APPLE INC  Apple Inc.  Information Technology",
      "text/html": "<div>\n<style scoped>\n    .dataframe tbody tr th:only-of-type {\n        vertical-align: middle;\n    }\n\n    .dataframe tbody tr th {\n        vertical-align: top;\n    }\n\n    .dataframe thead th {\n        text-align: right;\n    }\n</style>\n<table border=\"1\" class=\"dataframe\">\n  <thead>\n    <tr style=\"text-align: right;\">\n      <th></th>\n      <th>Symbol</th>\n      <th>Description</th>\n      <th>Name</th>\n      <th>Sector</th>\n    </tr>\n  </thead>\n  <tbody>\n    <tr>\n      <th>0</th>\n      <td>AAPL</td>\n      <td>APPLE INC</td>\n      <td>Apple Inc.</td>\n      <td>Information Technology</td>\n    </tr>\n  </tbody>\n</table>\n</div>"
     },
     "execution_count": 11,
     "metadata": {},
     "output_type": "execute_result"
    }
   ],
   "source": [
    "smoothie.df"
   ],
   "metadata": {
    "collapsed": false,
    "ExecuteTime": {
     "end_time": "2023-12-05T18:54:21.154450Z",
     "start_time": "2023-12-05T18:54:21.149322Z"
    }
   }
  }
 ],
 "metadata": {
  "kernelspec": {
   "display_name": "Python 3",
   "language": "python",
   "name": "python3"
  },
  "language_info": {
   "codemirror_mode": {
    "name": "ipython",
    "version": 2
   },
   "file_extension": ".py",
   "mimetype": "text/x-python",
   "name": "python",
   "nbconvert_exporter": "python",
   "pygments_lexer": "ipython2",
   "version": "2.7.6"
  }
 },
 "nbformat": 4,
 "nbformat_minor": 0
}
